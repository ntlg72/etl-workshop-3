{
 "cells": [
  {
   "cell_type": "markdown",
   "id": "aab6a22e",
   "metadata": {},
   "source": [
    "# **Happiness Score Prediction -  Machine Learning**\n",
    "\n",
    "-------------------------------------------------------\n",
    "\n",
    "##  **Objective**\n",
    "Train a **regression machine learning model** to predict the **happiness score** using **a  CSV files**  on world happiness data from 2015 to 2019.The workflow includes:\n",
    "\n",
    "- **Extracting features** from raw datasets (ETL process).\n",
    "- **Training a regression model** using a **70-30 data split** (70% training, 30% testing).\n",
    "- **Streaming transformed data** to a consumer.\n",
    "- **Using the trained model** in the consumer to predict happiness scores.\n",
    "- **Storing predictions** with the corresponding features in a database.\n",
    "- **Evaluating performance** using **testing data and predicted values**.\n",
    "\n",
    "---\n",
    "\n",
    "## **Workflow Overview**\n",
    "\n",
    "**Feature Engineering**  \n",
    "   - Normalize `happiness_score` to fit within **[0,10]**.  \n",
    "   - Scale numerical features using **MinMaxScaler** or **StandardScaler**.  \n",
    "\n",
    "**Model Training**  \n",
    "   - Use a **70-30 train-test split** to train the model.  \n",
    "   - Compare different regression models:\n",
    "     - **Linear Regression**\n",
    "     - **Ridge & Lasso Regression**\n",
    "     - **Random Forest Regressor**\n",
    "     - **XGBoost Regressor**\n",
    "   - **Tune hyperparameters** to improve performance.\n",
    "\n",
    " **Data Streaming**  \n",
    "   - Stream **transformed data** to a consumer.\n",
    "   - Retrieve data from the consumer.\n",
    "   - Use the **trained model** to make predictions.\n",
    "\n",
    " **Database Storage**  \n",
    "   - Store **predictions along with input features** in a database.  \n",
    "   - Ensure data **integrity and accessibility** for future analysis.\n",
    "\n",
    "**Model Evaluation**  \n",
    "   - Compute **Mean Squared Error (MSE)** and **R²**.  \n",
    "   - Analyze **residual distributions** for normality.  \n",
    "   - Validate against **real-world happiness scores**.\n",
    "\n",
    "\n",
    "## **Metadata**\n",
    "- **Author:** Natalia López Gallego  \n",
    "- **Python Version:** 3.12.10  "
   ]
  },
  {
   "cell_type": "code",
   "execution_count": 1,
   "id": "d28d72e3",
   "metadata": {},
   "outputs": [],
   "source": [
    "import pandas as pd\n",
    "import numpy as np\n",
    "\n",
    "# Model selection y preprocesamiento\n",
    "from sklearn.model_selection import train_test_split\n",
    "from sklearn.preprocessing import MinMaxScaler\n",
    "from sklearn.preprocessing import OneHotEncoder\n",
    "\n",
    "\n",
    "# Modelos de regresión\n",
    "from sklearn.linear_model import LinearRegression, Ridge, Lasso\n",
    "from sklearn.ensemble import RandomForestRegressor\n",
    "from xgboost import XGBRegressor\n",
    "from sklearn.ensemble import HistGradientBoostingRegressor\n",
    "from catboost import CatBoostRegressor\n",
    "from lightgbm import LGBMRegressor\n",
    "\n",
    "\n",
    "# Métricas de evaluación\n",
    "from sklearn.metrics import root_mean_squared_error, r2_score\n",
    "\n",
    "# Statsmodels para modelos estadísticos\n",
    "import statsmodels.api as sm\n",
    "import statsmodels.othermod.betareg as betareg\n",
    "from statsmodels.genmod.generalized_linear_model import GLM\n",
    "\n",
    "import pickle"
   ]
  },
  {
   "cell_type": "markdown",
   "id": "5ba82597",
   "metadata": {},
   "source": [
    "## Data load"
   ]
  },
  {
   "cell_type": "code",
   "execution_count": 2,
   "id": "e3ff6293",
   "metadata": {},
   "outputs": [
    {
     "data": {
      "text/html": [
       "<div>\n",
       "<style scoped>\n",
       "    .dataframe tbody tr th:only-of-type {\n",
       "        vertical-align: middle;\n",
       "    }\n",
       "\n",
       "    .dataframe tbody tr th {\n",
       "        vertical-align: top;\n",
       "    }\n",
       "\n",
       "    .dataframe thead th {\n",
       "        text-align: right;\n",
       "    }\n",
       "</style>\n",
       "<table border=\"1\" class=\"dataframe\">\n",
       "  <thead>\n",
       "    <tr style=\"text-align: right;\">\n",
       "      <th></th>\n",
       "      <th>health_x_economy</th>\n",
       "      <th>freedom</th>\n",
       "      <th>family</th>\n",
       "      <th>health</th>\n",
       "      <th>economy_t-1_x_health_t-1</th>\n",
       "      <th>family_generosity_ratio</th>\n",
       "      <th>continent</th>\n",
       "      <th>happiness_score</th>\n",
       "      <th>trust</th>\n",
       "      <th>economy_health_ratio</th>\n",
       "      <th>health_x_country_economy_mean</th>\n",
       "      <th>economy</th>\n",
       "      <th>family_t-1_x_freedom_t-1</th>\n",
       "      <th>country_economy_mean</th>\n",
       "    </tr>\n",
       "  </thead>\n",
       "  <tbody>\n",
       "    <tr>\n",
       "      <th>0</th>\n",
       "      <td>0.097017</td>\n",
       "      <td>0.23414</td>\n",
       "      <td>1.029510</td>\n",
       "      <td>0.303350</td>\n",
       "      <td>0.000000</td>\n",
       "      <td>2.819726</td>\n",
       "      <td>Asia</td>\n",
       "      <td>3.575</td>\n",
       "      <td>0.097190</td>\n",
       "      <td>1.054259</td>\n",
       "      <td>0.108330</td>\n",
       "      <td>0.319820</td>\n",
       "      <td>0.000000</td>\n",
       "      <td>0.357113</td>\n",
       "    </tr>\n",
       "    <tr>\n",
       "      <th>1</th>\n",
       "      <td>0.066301</td>\n",
       "      <td>0.16430</td>\n",
       "      <td>0.110370</td>\n",
       "      <td>0.173440</td>\n",
       "      <td>0.097017</td>\n",
       "      <td>0.352969</td>\n",
       "      <td>Asia</td>\n",
       "      <td>3.360</td>\n",
       "      <td>0.071120</td>\n",
       "      <td>2.203920</td>\n",
       "      <td>0.061938</td>\n",
       "      <td>0.382270</td>\n",
       "      <td>0.241049</td>\n",
       "      <td>0.357113</td>\n",
       "    </tr>\n",
       "    <tr>\n",
       "      <th>2</th>\n",
       "      <td>0.072566</td>\n",
       "      <td>0.10618</td>\n",
       "      <td>0.581543</td>\n",
       "      <td>0.180747</td>\n",
       "      <td>0.066301</td>\n",
       "      <td>1.864633</td>\n",
       "      <td>Asia</td>\n",
       "      <td>3.794</td>\n",
       "      <td>0.061158</td>\n",
       "      <td>2.221091</td>\n",
       "      <td>0.064547</td>\n",
       "      <td>0.401477</td>\n",
       "      <td>0.018134</td>\n",
       "      <td>0.357113</td>\n",
       "    </tr>\n",
       "    <tr>\n",
       "      <th>3</th>\n",
       "      <td>0.084660</td>\n",
       "      <td>0.08500</td>\n",
       "      <td>0.537000</td>\n",
       "      <td>0.255000</td>\n",
       "      <td>0.072566</td>\n",
       "      <td>2.811371</td>\n",
       "      <td>Asia</td>\n",
       "      <td>3.632</td>\n",
       "      <td>0.036000</td>\n",
       "      <td>1.301910</td>\n",
       "      <td>0.091064</td>\n",
       "      <td>0.332000</td>\n",
       "      <td>0.061748</td>\n",
       "      <td>0.357113</td>\n",
       "    </tr>\n",
       "    <tr>\n",
       "      <th>4</th>\n",
       "      <td>0.126350</td>\n",
       "      <td>0.41700</td>\n",
       "      <td>0.517000</td>\n",
       "      <td>0.361000</td>\n",
       "      <td>0.084660</td>\n",
       "      <td>3.271945</td>\n",
       "      <td>Asia</td>\n",
       "      <td>3.203</td>\n",
       "      <td>0.025000</td>\n",
       "      <td>0.969502</td>\n",
       "      <td>0.128918</td>\n",
       "      <td>0.350000</td>\n",
       "      <td>0.045645</td>\n",
       "      <td>0.357113</td>\n",
       "    </tr>\n",
       "  </tbody>\n",
       "</table>\n",
       "</div>"
      ],
      "text/plain": [
       "   health_x_economy  freedom    family    health  economy_t-1_x_health_t-1  \\\n",
       "0          0.097017  0.23414  1.029510  0.303350                  0.000000   \n",
       "1          0.066301  0.16430  0.110370  0.173440                  0.097017   \n",
       "2          0.072566  0.10618  0.581543  0.180747                  0.066301   \n",
       "3          0.084660  0.08500  0.537000  0.255000                  0.072566   \n",
       "4          0.126350  0.41700  0.517000  0.361000                  0.084660   \n",
       "\n",
       "   family_generosity_ratio continent  happiness_score     trust  \\\n",
       "0                 2.819726      Asia            3.575  0.097190   \n",
       "1                 0.352969      Asia            3.360  0.071120   \n",
       "2                 1.864633      Asia            3.794  0.061158   \n",
       "3                 2.811371      Asia            3.632  0.036000   \n",
       "4                 3.271945      Asia            3.203  0.025000   \n",
       "\n",
       "   economy_health_ratio  health_x_country_economy_mean   economy  \\\n",
       "0              1.054259                       0.108330  0.319820   \n",
       "1              2.203920                       0.061938  0.382270   \n",
       "2              2.221091                       0.064547  0.401477   \n",
       "3              1.301910                       0.091064  0.332000   \n",
       "4              0.969502                       0.128918  0.350000   \n",
       "\n",
       "   family_t-1_x_freedom_t-1  country_economy_mean  \n",
       "0                  0.000000              0.357113  \n",
       "1                  0.241049              0.357113  \n",
       "2                  0.018134              0.357113  \n",
       "3                  0.061748              0.357113  \n",
       "4                  0.045645              0.357113  "
      ]
     },
     "execution_count": 2,
     "metadata": {},
     "output_type": "execute_result"
    }
   ],
   "source": [
    "df = pd.read_csv(\"../data/interim/happiness_data_alternative.csv\")\n",
    "\n",
    "df.head()"
   ]
  },
  {
   "cell_type": "markdown",
   "id": "a7848480",
   "metadata": {},
   "source": [
    "## One hot encoding"
   ]
  },
  {
   "cell_type": "markdown",
   "id": "22ad5131",
   "metadata": {},
   "source": [
    "Since the data of the `continent` feature is of categorical type we must apply one hot encoding so that the regression models can use it. "
   ]
  },
  {
   "cell_type": "code",
   "execution_count": 3,
   "id": "3033d115",
   "metadata": {},
   "outputs": [
    {
     "name": "stdout",
     "output_type": "stream",
     "text": [
      "   health_x_economy  freedom    family    health  economy_t-1_x_health_t-1  \\\n",
      "0          0.097017  0.23414  1.029510  0.303350                  0.000000   \n",
      "1          0.066301  0.16430  0.110370  0.173440                  0.097017   \n",
      "2          0.072566  0.10618  0.581543  0.180747                  0.066301   \n",
      "3          0.084660  0.08500  0.537000  0.255000                  0.072566   \n",
      "4          0.126350  0.41700  0.517000  0.361000                  0.084660   \n",
      "\n",
      "   family_generosity_ratio  happiness_score     trust  economy_health_ratio  \\\n",
      "0                 2.819726            3.575  0.097190              1.054259   \n",
      "1                 0.352969            3.360  0.071120              2.203920   \n",
      "2                 1.864633            3.794  0.061158              2.221091   \n",
      "3                 2.811371            3.632  0.036000              1.301910   \n",
      "4                 3.271945            3.203  0.025000              0.969502   \n",
      "\n",
      "   health_x_country_economy_mean   economy  family_t-1_x_freedom_t-1  \\\n",
      "0                       0.108330  0.319820                  0.000000   \n",
      "1                       0.061938  0.382270                  0.241049   \n",
      "2                       0.064547  0.401477                  0.018134   \n",
      "3                       0.091064  0.332000                  0.061748   \n",
      "4                       0.128918  0.350000                  0.045645   \n",
      "\n",
      "   country_economy_mean  continent_Asia  continent_Europe  \\\n",
      "0              0.357113             1.0               0.0   \n",
      "1              0.357113             1.0               0.0   \n",
      "2              0.357113             1.0               0.0   \n",
      "3              0.357113             1.0               0.0   \n",
      "4              0.357113             1.0               0.0   \n",
      "\n",
      "   continent_North America  continent_Oceania  continent_South America  \\\n",
      "0                      0.0                0.0                      0.0   \n",
      "1                      0.0                0.0                      0.0   \n",
      "2                      0.0                0.0                      0.0   \n",
      "3                      0.0                0.0                      0.0   \n",
      "4                      0.0                0.0                      0.0   \n",
      "\n",
      "   continent_Unknown  \n",
      "0                0.0  \n",
      "1                0.0  \n",
      "2                0.0  \n",
      "3                0.0  \n",
      "4                0.0  \n"
     ]
    }
   ],
   "source": [
    "# Use 'sparse_output=False' instead of 'sparse=False'\n",
    "encoder = OneHotEncoder(drop=\"first\", sparse_output=False)\n",
    "encoded_continent = encoder.fit_transform(df[[\"continent\"]])\n",
    "\n",
    "# Convert the encoded array to a DataFrame\n",
    "\n",
    "continent_df = pd.DataFrame(encoded_continent, columns=encoder.get_feature_names_out([\"continent\"]))\n",
    "\n",
    "# Drop the original 'continent' column and join the new one-hot encoded columns\n",
    "df = df.drop(columns=[\"continent\"]).join(continent_df)\n",
    "\n",
    "# Display the updated DataFrame\n",
    "print(df.head())"
   ]
  },
  {
   "cell_type": "markdown",
   "id": "2ec391de",
   "metadata": {},
   "source": [
    "The features  `economy_t-1_x_health_t-1` and `family_t-1_x_freedom_t-1` are renamed for better handling in databases."
   ]
  },
  {
   "cell_type": "code",
   "execution_count": 4,
   "id": "e08b3a4b",
   "metadata": {},
   "outputs": [],
   "source": [
    "df = df.rename(columns={\n",
    "    'economy_t-1_x_health_t-1': 'economy_t1_x_health_t1',\n",
    "    'family_t-1_x_freedom_t-1': 'family_t1_x_freedom_t1'\n",
    "})\n"
   ]
  },
  {
   "cell_type": "markdown",
   "id": "8070e278",
   "metadata": {},
   "source": [
    "## Target variable and feature definition"
   ]
  },
  {
   "cell_type": "markdown",
   "id": "7fb162ee",
   "metadata": {},
   "source": [
    "We need to **define the target variable (`y`) and features (`X`)** for a **machine learning model**.\n",
    "\n",
    "### **Explanation:**\n",
    "- `X = df.drop(columns=[\"happiness_score\"])`  \n",
    "  - Removes the **target variable** (`happiness_score`) from the dataset (`df`), keeping only the **independent variables (features)**.  \n",
    "  - These features (`X`) will be used to **predict** the target variable.\n",
    "\n",
    "- `y = df[\"happiness_score\"]`  \n",
    "  - Extracts the **happiness score** column as `y`, the **dependent variable** that the model will learn to predict.\n",
    "\n",
    "### **Why Is This Important?**\n",
    "- **Separating features and the target** is a standard step before **training a machine learning model**.\n",
    "- It ensures that the algorithm learns **patterns** from predictors (`X`) and optimizes its ability to estimate `y`.\n",
    "- **Feature engineering** may follow, where we refine, select, or transform variables for better predictive accuracy.\n",
    "\n",
    "Now that we have `X` and `y defined, the next steps usually involves  splitting into training/testing sets, and selecting a model."
   ]
  },
  {
   "cell_type": "code",
   "execution_count": 5,
   "id": "0e951505",
   "metadata": {},
   "outputs": [],
   "source": [
    "# Target variable and feature definition\n",
    "\n",
    "X = df.drop(columns=[\"happiness_score\"])\n",
    "y = df[\"happiness_score\"]\n"
   ]
  },
  {
   "cell_type": "markdown",
   "id": "823d87cd",
   "metadata": {},
   "source": [
    "## Data split for training and validation"
   ]
  },
  {
   "cell_type": "markdown",
   "id": "67bcdd01",
   "metadata": {},
   "source": [
    "Now we **split the dataset into training and testing sets**.\n",
    "\n",
    "### **Explanation:**\n",
    "- `train_test_split(X, y, test_size=0.2, random_state=42)`  \n",
    "  - **Divides the data** into training (`X_train, y_train`) and testing (`X_test, y_test`) subsets.  \n",
    "  - **`test_size=0.2`** means **20% of the data** will be used for testing, while **80%** remains for training.  \n",
    "  - **`random_state=42`** ensures **consistent splitting** across runs so results are reproducible.\n",
    "\n",
    "### **Why Is This Important?**\n",
    "- **Training set (`X_train, y_train`)** → Used to teach the machine learning model how to make predictions.  \n",
    "- **Testing set (`X_test, y_test`)** → Used to evaluate how well the model **generalizes** to new, unseen data.  \n",
    "- **Prevents overfitting** → Ensures the model doesn't learn patterns **specific to training data only**, making it more adaptable to real-world scenarios.  \n"
   ]
  },
  {
   "cell_type": "code",
   "execution_count": 6,
   "id": "e0363d58",
   "metadata": {},
   "outputs": [],
   "source": [
    "# Data split\n",
    "X_train, X_test, y_train, y_test = train_test_split(X, y, test_size=0.2,random_state=42)"
   ]
  },
  {
   "cell_type": "markdown",
   "id": "7e7f8815",
   "metadata": {},
   "source": [
    "## Metrics"
   ]
  },
  {
   "cell_type": "markdown",
   "id": "cd5377b6",
   "metadata": {},
   "source": [
    "We define a function to **evaluate the performance** of a **regression model** by calculating two important metrics: **Root Mean Squared Error (RMSE)** and **R² Score (R-squared)**. It then **stores these evaluation results** in a dictionary for easy comparison between models.\n",
    "\n",
    "### **Why Are We Doing This?**\n",
    "- **Quantifies Model Accuracy** → We calculate RMSE and R² to assess how well the model predicts the target variable.  \n",
    "- **Facilitates Model Comparison** → Allows multiple regression models to be evaluated side-by-side by storing results in a dictionary.  \n",
    "- **Tracks Performance Metrics Efficiently** → Rather than manually printing scores each time, this function **automates storage and retrieval** of results.  \n",
    "\n",
    "### **Breakdown of Evaluation Metrics:**\n",
    "1. **Root Mean Squared Error (RMSE)**  \n",
    "   - Measures the **average difference** between actual values (`y_true`) and predictions (`y_pred`).  \n",
    "   - **Lower RMSE** → Better model performance (fewer errors).  \n",
    "\n",
    "2. **R² Score (Coefficient of Determination)**  \n",
    "   - Represents how well the model **explains variance** in the target variable.  \n",
    "   - **Higher R² (closer to 1)** → Better fit.  "
   ]
  },
  {
   "cell_type": "code",
   "execution_count": 7,
   "id": "dfb34071",
   "metadata": {},
   "outputs": [],
   "source": [
    "def evaluate_model(name: str, y_true: np.ndarray, y_pred: np.ndarray, results: dict) -> None:\n",
    "    \"\"\"\n",
    "    Evaluates a regression model's performance and stores the results.\n",
    "\n",
    "    Parameters:\n",
    "    - name (str): The name of the model.\n",
    "    - y_true (np.ndarray): Array of actual target values.\n",
    "    - y_pred (np.ndarray): Array of predicted target values.\n",
    "    - results (dict): Dictionary to store evaluation metrics.\n",
    "\n",
    "    Returns:\n",
    "    - None: The function updates the results dictionary in-place.\n",
    "    \"\"\"\n",
    "    rmse = root_mean_squared_error(y_true, y_pred)  # Updated function\n",
    "    r2 = r2_score(y_true, y_pred)\n",
    "    results[name] = {'RMSE': rmse, 'R2': r2}\n",
    "\n",
    "#  Dictionary to store results\n",
    "results = {}"
   ]
  },
  {
   "cell_type": "markdown",
   "id": "e6d9bb74",
   "metadata": {},
   "source": [
    "## Model training"
   ]
  },
  {
   "cell_type": "markdown",
   "id": "7c8f2857",
   "metadata": {},
   "source": [
    "In this section we are **training and evaluating diverse models** to predict the target variable (`y_test`). "
   ]
  },
  {
   "cell_type": "markdown",
   "id": "77a78695",
   "metadata": {},
   "source": [
    "### **Linear Regression**\n",
    "------------------------------"
   ]
  },
  {
   "cell_type": "markdown",
   "id": "4b4a8859",
   "metadata": {},
   "source": [
    "#### **Step-by-Step Explanation:**\n",
    "\n",
    "1️⃣ **Initialize the model:**  \n",
    "   ```python\n",
    "   lr = LinearRegression()\n",
    "   ```\n",
    "   - Creates an instance of `LinearRegression()`, which will be used for prediction.\n",
    "   - This model assumes a **linear relationship** between features (`X_train`) and the target (`y_train`).\n",
    "\n",
    "2️⃣ **Train (Fit) the Model:**  \n",
    "   ```python\n",
    "   lr.fit(X_train, y_train)\n",
    "   ```\n",
    "   - Trains the model using `X_train` (features) and `y_train` (target variable).\n",
    "   - The model learns **coefficients** that best predict `y_train` using `X_train`.\n",
    "\n",
    "3️⃣ **Make Predictions on Test Data:**  \n",
    "   ```python\n",
    "   y_pred_lr = lr.predict(X_test)\n",
    "   ```\n",
    "   - Uses the trained model to predict `y_test` values based on `X_test`.\n",
    "   - Generates predictions (`y_pred_lr`) for unseen data.\n",
    "\n",
    "4️⃣ **Evaluate the Model Performance:**  \n",
    "   ```python\n",
    "   evaluate_model(\"LinearRegression\", y_test, y_pred_lr, results)\n",
    "   ```\n",
    "   - Calls `evaluate_model()`, which computes metrics like:\n",
    "     - **Root Mean Squared Error (RMSE)** → Measures average prediction error.\n",
    "     - **R² Score** → Shows how well the model explains variance in `y_test`.\n",
    "   - Stores results in a dictionary (`results`) for comparison with other models."
   ]
  },
  {
   "cell_type": "code",
   "execution_count": 8,
   "id": "d46df20d",
   "metadata": {},
   "outputs": [],
   "source": [
    "lr = LinearRegression()\n",
    "lr.fit(X_train, y_train)\n",
    "y_pred_lr = lr.predict(X_test)\n",
    "evaluate_model(\"LinearRegression\", y_test, y_pred_lr, results)"
   ]
  },
  {
   "cell_type": "markdown",
   "id": "3f78e41c",
   "metadata": {},
   "source": [
    "### **GLM Gaussian**\n",
    "-------------------------"
   ]
  },
  {
   "cell_type": "markdown",
   "id": "d50710c5",
   "metadata": {},
   "source": [
    "#### **Step-by-Step Explanation:**\n",
    "1️⃣ **Add a Constant to Feature Data (`X_train` and `X_test`)**  \n",
    "   ```python\n",
    "   X_train_sm = sm.add_constant(X_train)\n",
    "   X_test_sm = sm.add_constant(X_test)\n",
    "   ```\n",
    "   - Adds an **intercept (bias term)** to the feature matrix, ensuring that the regression model includes a constant term for better predictions.\n",
    "\n",
    "2️⃣ **Define the Gaussian Generalized Linear Model (GLM):**  \n",
    "   ```python\n",
    "   glm_gauss = sm.GLM(y_train, X_train_sm, family=sm.families.Gaussian()).fit()\n",
    "   ```\n",
    "   - **Creates and fits a GLM model**, where:\n",
    "     - `y_train` → The target variable.\n",
    "     - `X_train_sm` → The independent variables, now including an intercept.\n",
    "     - `sm.families.Gaussian()` → Specifies that we are **using a Gaussian distribution**, making this equivalent to **linear regression**.\n",
    "\n",
    "3️⃣ **Make Predictions on Test Data (`X_test_sm`)**  \n",
    "   ```python\n",
    "   y_pred_glm = glm_gauss.predict(X_test_sm)\n",
    "   ```\n",
    "   - Generates **predicted values** for `y_test` using the trained GLM model.\n",
    "\n",
    "4️⃣ **Evaluate Model Performance Using RMSE & R²:**  \n",
    "   ```python\n",
    "   evaluate_model(\"GLM_Gaussian\", y_test, y_pred_glm, results)\n",
    "   ```\n",
    "   - Computes key **regression metrics** such as:\n",
    "     - **Root Mean Squared Error (RMSE)** → Measures prediction accuracy.\n",
    "     - **R² Score** → Indicates how well the model explains variation in the target variable.\n",
    "   - Stores evaluation results in `results`, allowing comparisons with other models.\n",
    "\n",
    "#### **Why Use GLM Instead of Standard Linear Regression?**\n",
    "✅ **More Flexible** → GLM allows different distributions (e.g., Poisson, Binomial) beyond just Gaussian.  \n",
    "✅ **Handles Complex Relationships** → Can model relationships better in cases where assumptions of standard regression fail.  \n",
    "✅ **Provides Statistical Insights** → Often used in econometrics and healthcare analytics for robust predictions.\n",
    "\n"
   ]
  },
  {
   "cell_type": "code",
   "execution_count": 9,
   "id": "25f48a1d",
   "metadata": {},
   "outputs": [],
   "source": [
    "X_train_sm = sm.add_constant(X_train)\n",
    "X_test_sm = sm.add_constant(X_test)\n",
    "glm_gauss = sm.GLM(y_train, X_train_sm, family=sm.families.Gaussian()).fit()\n",
    "y_pred_glm = glm_gauss.predict(X_test_sm)\n",
    "evaluate_model(\"GLM_Gaussian\", y_test, y_pred_glm, results)"
   ]
  },
  {
   "cell_type": "markdown",
   "id": "024933e6",
   "metadata": {},
   "source": [
    "### **Ridge Regression**\n",
    "--------------------"
   ]
  },
  {
   "cell_type": "markdown",
   "id": "b3361d74",
   "metadata": {},
   "source": [
    "\n",
    "\n",
    "#### **Step-by-Step Explanation:**\n",
    "1️⃣ **Initialize Ridge Regression Model:**  \n",
    "   ```python\n",
    "   ridge = Ridge(alpha=1.0)\n",
    "   ```\n",
    "   - Creates an instance of `Ridge()`, which is similar to standard linear regression but **adds a penalty (L2 regularization)** to reduce the impact of high-magnitude coefficients.  \n",
    "   - **`alpha=1.0`** controls the strength of the regularization:\n",
    "     - **Higher alpha** → Stronger regularization (simpler model, reduced overfitting).  \n",
    "     - **Lower alpha** → Weaker regularization (model behaves more like ordinary linear regression).  \n",
    "\n",
    "2️⃣ **Train (Fit) the Model:**  \n",
    "   ```python\n",
    "   ridge.fit(X_train, y_train)\n",
    "   ```\n",
    "   - Learns **coefficients** that minimize errors while ensuring they don’t become too large, avoiding overfitting.\n",
    "\n",
    "3️⃣ **Make Predictions on Test Data:**  \n",
    "   ```python\n",
    "   y_pred_ridge = ridge.predict(X_test)\n",
    "   ```\n",
    "   - Uses the trained model to **predict `y_test` values** based on `X_test`.\n",
    "\n",
    "4️⃣ **Evaluate Model Performance:**  \n",
    "   ```python\n",
    "   evaluate_model(\"Ridge\", y_test, y_pred_ridge, results)\n",
    "   ```\n",
    "   - Computes and stores key **regression metrics**:\n",
    "     - **Root Mean Squared Error (RMSE)** → Measures prediction error.  \n",
    "     - **R² Score** → Shows how well the model explains variance.  \n",
    "\n",
    "#### **Why Use Ridge Regression Instead of Standard Linear Regression?**\n",
    "✅ **Reduces Overfitting** → Helps when features are highly correlated.  \n",
    "✅ **Handles Multicollinearity** → Prevents extreme coefficient values that can distort predictions.  \n",
    "✅ **Better Generalization** → Improves performance on unseen data compared to regular linear regression.  \n"
   ]
  },
  {
   "cell_type": "code",
   "execution_count": 10,
   "id": "fe25cda8",
   "metadata": {},
   "outputs": [],
   "source": [
    "ridge = Ridge(alpha=1.0)\n",
    "ridge.fit(X_train, y_train)\n",
    "y_pred_ridge = ridge.predict(X_test)\n",
    "evaluate_model(\"Ridge\", y_test, y_pred_ridge, results)"
   ]
  },
  {
   "cell_type": "markdown",
   "id": "0443de55",
   "metadata": {},
   "source": [
    "### **Lasso Regression**\n",
    "-----------------"
   ]
  },
  {
   "cell_type": "markdown",
   "id": "321188a6",
   "metadata": {},
   "source": [
    "#### **Step-by-Step Explanation:**\n",
    "1️⃣ **Initialize the Lasso Regression Model:**  \n",
    "   ```python\n",
    "   lasso = Lasso(alpha=0.1)\n",
    "   ```\n",
    "   - Creates an instance of `Lasso()`, which applies **L1 regularization**, forcing some coefficients to become exactly **zero**, effectively selecting important features.  \n",
    "   - **`alpha=0.1`** controls the strength of regularization:\n",
    "     - **Higher alpha** → Stronger penalty → More coefficients set to zero.  \n",
    "     - **Lower alpha** → Less penalty → Model behaves more like standard linear regression.\n",
    "\n",
    "2️⃣ **Train (Fit) the Model:**  \n",
    "   ```python\n",
    "   lasso.fit(X_train, y_train)\n",
    "   ```\n",
    "   - Learns optimal feature coefficients while **eliminating unimportant ones**, reducing complexity.\n",
    "\n",
    "3️⃣ **Make Predictions on Test Data:**  \n",
    "   ```python\n",
    "   y_pred_lasso = lasso.predict(X_test)\n",
    "   ```\n",
    "   - Uses the trained model to **predict target values (`y_test`)** based on `X_test`.\n",
    "\n",
    "4️⃣ **Evaluate Model Performance:**  \n",
    "   ```python\n",
    "   evaluate_model(\"Lasso\", y_test, y_pred_lasso, results)\n",
    "   ```\n",
    "   - Computes and stores key **regression metrics**:\n",
    "     - **Root Mean Squared Error (RMSE)** → Measures prediction error.  \n",
    "     - **R² Score** → Shows how well the model explains variance.  \n",
    "\n",
    "####  **Why Use Lasso Regression Instead of Standard Linear Regression?**\n",
    "✅ **Feature Selection** → **Automatically removes unimportant variables**, making models more interpretable.  \n",
    "✅ **Reduces Overfitting** → Prevents overly complex models by shrinking coefficients.  \n",
    "✅ **Handles High-Dimensional Data** → Works well when there are **many features** with some being irrelevant.  \n"
   ]
  },
  {
   "cell_type": "code",
   "execution_count": 11,
   "id": "a86f5afe",
   "metadata": {},
   "outputs": [],
   "source": [
    "lasso = Lasso(alpha=0.1)\n",
    "lasso.fit(X_train, y_train)\n",
    "y_pred_lasso = lasso.predict(X_test)\n",
    "evaluate_model(\"Lasso\", y_test, y_pred_lasso, results)"
   ]
  },
  {
   "cell_type": "markdown",
   "id": "ddd934fe",
   "metadata": {},
   "source": [
    "### **Random Forest**\n",
    "-----------------------------"
   ]
  },
  {
   "cell_type": "markdown",
   "id": "4a2712b9",
   "metadata": {},
   "source": [
    "#### **Step-by-Step Explanation:**\n",
    "1️⃣ **Initialize the Random Forest Model:**  \n",
    "   ```python\n",
    "   rf = RandomForestRegressor(n_estimators=100, random_state=42)\n",
    "   ```\n",
    "   - **`n_estimators=100`** → Uses 100 decision trees in the ensemble.  \n",
    "   - **`random_state=42`** → Ensures reproducibility of results.  \n",
    "\n",
    "2️⃣ **Train the Model Using Training Data:**  \n",
    "   ```python\n",
    "   rf.fit(X_train, y_train)\n",
    "   ```\n",
    "   - Trains multiple decision trees independently and then aggregates their predictions.  \n",
    "   - **Each tree is trained on a random subset of the data**, improving robustness against overfitting.  \n",
    "\n",
    "3️⃣ **Make Predictions on Test Data:**  \n",
    "   ```python\n",
    "   y_pred_rf = rf.predict(X_test)\n",
    "   ```\n",
    "   - Uses the trained model to predict `y_test` based on `X_test`.  \n",
    "   - Aggregates predictions from multiple trees to produce final estimates.  \n",
    "\n",
    "4️⃣ **Evaluate Model Performance:**  \n",
    "   ```python\n",
    "   evaluate_model(\"RandomForest\", y_test, y_pred_rf, results)\n",
    "   ```\n",
    "   - Computes key **regression metrics**:\n",
    "     - **Root Mean Squared Error (RMSE)** → Measures prediction error.  \n",
    "     - **R² Score** → Shows how well the model explains variance.  \n",
    "   - Stores results for comparison with other models.  \n",
    "\n",
    "#### **Why Use Random Forest Instead of Standard Decision Trees?**\n",
    "✅ **Reduces Overfitting** → Combining multiple trees prevents reliance on noisy data points.  \n",
    "✅ **Handles Nonlinear Relationships Well** → Effective when features are not perfectly linearly related.  \n",
    "✅ **Works with High-Dimensional Data** → Can process datasets with many features effectively.  \n",
    "✅ **Robust Against Noise** → Individual trees may overfit, but averaging across many trees mitigates this issue.  "
   ]
  },
  {
   "cell_type": "code",
   "execution_count": 12,
   "id": "a651e892",
   "metadata": {},
   "outputs": [],
   "source": [
    "rf = RandomForestRegressor(n_estimators=100, random_state=42)\n",
    "rf.fit(X_train, y_train)\n",
    "y_pred_rf = rf.predict(X_test)\n",
    "evaluate_model(\"RandomForest\", y_test, y_pred_rf, results)"
   ]
  },
  {
   "cell_type": "markdown",
   "id": "d910625d",
   "metadata": {},
   "source": [
    "### **XGBoost Regressor**\n",
    "-----------"
   ]
  },
  {
   "cell_type": "markdown",
   "id": "82d12f8b",
   "metadata": {},
   "source": [
    "#### **Step-by-Step Explanation:**\n",
    "1️⃣ **Initialize the Random Forest Model:**  \n",
    "   ```python\n",
    "   rf = RandomForestRegressor(n_estimators=100, random_state=42)\n",
    "   ```\n",
    "   - **`n_estimators=100`** → Uses 100 decision trees in the ensemble.  \n",
    "   - **`random_state=42`** → Ensures reproducibility of results.  \n",
    "\n",
    "2️⃣ **Train the Model Using Training Data:**  \n",
    "   ```python\n",
    "   rf.fit(X_train, y_train)\n",
    "   ```\n",
    "   - Trains multiple decision trees independently and then aggregates their predictions.  \n",
    "   - **Each tree is trained on a random subset of the data**, improving robustness against overfitting.  \n",
    "\n",
    "3️⃣ **Make Predictions on Test Data:**  \n",
    "   ```python\n",
    "   y_pred_rf = rf.predict(X_test)\n",
    "   ```\n",
    "   - Uses the trained model to predict `y_test` based on `X_test`.  \n",
    "   - Aggregates predictions from multiple trees to produce final estimates.  \n",
    "\n",
    "4️⃣ **Evaluate Model Performance:**  \n",
    "   ```python\n",
    "   evaluate_model(\"RandomForest\", y_test, y_pred_rf, results)\n",
    "   ```\n",
    "   - Computes key **regression metrics**:\n",
    "     - **Root Mean Squared Error (RMSE)** → Measures prediction error.  \n",
    "     - **R² Score** → Shows how well the model explains variance.  \n",
    "   - Stores results for comparison with other models.  \n",
    "\n",
    "#### **Why Use Random Forest Instead of Standard Decision Trees?**\n",
    "✅ **Reduces Overfitting** → Combining multiple trees prevents reliance on noisy data points.  \n",
    "✅ **Handles Nonlinear Relationships Well** → Effective when features are not perfectly linearly related.  \n",
    "✅ **Works with High-Dimensional Data** → Can process datasets with many features effectively.  \n",
    "✅ **Robust Against Noise** → Individual trees may overfit, but averaging across many trees mitigates this issue.  "
   ]
  },
  {
   "cell_type": "code",
   "execution_count": 13,
   "id": "76082ca4",
   "metadata": {},
   "outputs": [],
   "source": [
    "xgb = XGBRegressor(n_estimators=100, random_state=42)\n",
    "xgb.fit(X_train, y_train)\n",
    "y_pred_xgb = xgb.predict(X_test)\n",
    "evaluate_model(\"XGBoost\", y_test, y_pred_xgb, results)"
   ]
  },
  {
   "cell_type": "markdown",
   "id": "56f3d02c",
   "metadata": {},
   "source": [
    "### **Beta Regression (requires scaling y between (0,1))**\n",
    "--------------"
   ]
  },
  {
   "cell_type": "markdown",
   "id": "bb1eb662",
   "metadata": {},
   "source": [
    "This code trains and evaluates a **scaled Beta Regression model**, which is useful when the target variable is bounded between 0 and 1.\n",
    "\n",
    "### **Step-by-Step Explanation:**\n",
    "1️⃣ **Initialize and Apply MinMax Scaling to `y_train` and `y_test`:**  \n",
    "   ```python\n",
    "   scaler_y = MinMaxScaler()\n",
    "   \n",
    "   y_train_beta = scaler_y.fit_transform(y_train.values.reshape(-1, 1)).flatten()\n",
    "   y_test_beta = scaler_y.transform(y_test.values.reshape(-1, 1)).flatten()\n",
    "   ```\n",
    "   - **MinMaxScaler** rescales `y_train` and `y_test` to a **range between 0 and 1**, which is necessary for **Beta Regression**, as beta-distributed values must be within this interval.\n",
    "   - **Reshaping ensures compatibility** with scikit-learn functions.\n",
    "\n",
    "2️⃣ **Fit a Beta Regression Model Using Generalized Linear Model (GLM):**  \n",
    "   ```python\n",
    "   glm_beta = GLM(y_train_beta, X_train_sm, family=sm.families.Binomial(link=sm.families.links.logit()))\n",
    "   beta_model = glm_beta.fit()\n",
    "   ```\n",
    "   - Uses **GLM with a Binomial family** and a **logit link function**, making it similar to **Beta Regression**.\n",
    "   - `X_train_sm` includes an **intercept** (added previously).\n",
    "\n",
    "3️⃣ **Make Predictions on Test Data (`X_test_sm`):**  \n",
    "   ```python\n",
    "   y_pred_beta = beta_model.predict(X_test_sm)\n",
    "   ```\n",
    "   - Predicts scaled values of `y_test` using `X_test_sm`.\n",
    "\n",
    "4️⃣ **Reverse Scaling to Restore Original Target Range:**  \n",
    "   ```python\n",
    "   y_pred_beta_rescaled = scaler_y.inverse_transform(y_pred_beta.to_numpy().reshape(-1, 1)).flatten()\n",
    "   ```\n",
    "   - **Transforms predictions back** into the original target scale using `inverse_transform()`, ensuring values match the original distribution.\n",
    "\n",
    "5️⃣ **Evaluate Model Performance:**  \n",
    "   ```python\n",
    "   evaluate_model(\"BetaRegression_scaled\", y_test, y_pred_beta_rescaled, results)\n",
    "   ```\n",
    "   - Computes **Root Mean Squared Error (RMSE)** and **R² Score** to assess prediction accuracy.\n",
    "   - Stores results for comparison with other models.\n",
    "\n",
    "#### **Why Use Beta Regression with Scaling?**\n",
    "✅ **Optimized for Bounded Data** → Useful when `y` values are strictly between 0 and 1, avoiding unrealistic predictions (like the `happiness_score` which has values between 0 and 10)\n",
    "✅ **Handles Probabilistic Outcomes** → Often used for **proportional data** in fields like **economics and health analytics**.  \n",
    "✅ **Improves Model Interpretation** → Makes it easier to understand **nonlinear dependencies** between features and outcomes.  "
   ]
  },
  {
   "cell_type": "code",
   "execution_count": 14,
   "id": "12c254b5",
   "metadata": {},
   "outputs": [
    {
     "name": "stderr",
     "output_type": "stream",
     "text": [
      "c:\\Users\\ntlg2\\Documents\\etl-workshop-3\\venv\\Lib\\site-packages\\statsmodels\\genmod\\families\\links.py:13: FutureWarning: The logit link alias is deprecated. Use Logit instead. The logit link alias will be removed after the 0.15.0 release.\n",
      "  warnings.warn(\n"
     ]
    }
   ],
   "source": [
    "scaler_y = MinMaxScaler()\n",
    "\n",
    "# Convert Series to NumPy arrays and reshape before scaling\n",
    "y_train_beta = scaler_y.fit_transform(y_train.values.reshape(-1, 1)).flatten()\n",
    "y_test_beta = scaler_y.transform(y_test.values.reshape(-1, 1)).flatten()\n",
    "\n",
    "# Fit the Beta Regression model\n",
    "glm_beta = GLM(y_train_beta, X_train_sm, family=sm.families.Binomial(link=sm.families.links.logit()))\n",
    "beta_model = glm_beta.fit()\n",
    "\n",
    "# Make predictions\n",
    "y_pred_beta = beta_model.predict(X_test_sm)\n",
    "\n",
    "# Reverse scaling to get predictions in the original scale\n",
    "y_pred_beta_rescaled = scaler_y.inverse_transform(y_pred_beta.to_numpy().reshape(-1, 1)).flatten()\n",
    "\n",
    "# Evaluate the model\n",
    "evaluate_model(\"BetaRegression_scaled\", y_test, y_pred_beta_rescaled, results)"
   ]
  },
  {
   "cell_type": "markdown",
   "id": "ac9f23f4",
   "metadata": {},
   "source": [
    "### **CatBoost Regressor**\n",
    "--------------------------------"
   ]
  },
  {
   "cell_type": "markdown",
   "id": "d26c3f1e",
   "metadata": {},
   "source": [
    "#### **Step-by-Step Explanation:**\n",
    "1️⃣ **Initialize the CatBoost Model:**  \n",
    "   ```python\n",
    "   catboost = CatBoostRegressor(\n",
    "       iterations=500,\n",
    "       learning_rate=0.05,\n",
    "       depth=6,\n",
    "       verbose=0,\n",
    "       random_seed=42\n",
    "   )\n",
    "   ```\n",
    "   - **`iterations=500`** → Runs 500 boosting iterations (trees).  \n",
    "   - **`learning_rate=0.05`** → Controls how much the model adjusts weights per step.  \n",
    "   - **`depth=6`** → Limits tree depth to prevent overfitting.  \n",
    "   - **`verbose=0`** → Suppresses output during training.  \n",
    "   - **`random_seed=42`** → Ensures reproducible results.\n",
    "\n",
    "2️⃣ **Train the Model on Training Data:**  \n",
    "   ```python\n",
    "   catboost.fit(X_train, y_train)\n",
    "   ```\n",
    "   - Learns relationships between `X_train` (features) and `y_train` (target variable).  \n",
    "   - Uses **ordered boosting** to optimize how trees are built.\n",
    "\n",
    "3️⃣ **Make Predictions on Test Data:**  \n",
    "   ```python\n",
    "   y_pred_catboost = catboost.predict(X_test)\n",
    "   ```\n",
    "   - Generates predictions for `y_test` based on `X_test`.\n",
    "\n",
    "4️⃣ **Evaluate Model Performance:**  \n",
    "   ```python\n",
    "   evaluate_model(\"CatBoost\", y_test, y_pred_catboost, results)\n",
    "   ```\n",
    "   - Computes key **regression metrics**:\n",
    "     - **Root Mean Squared Error (RMSE)** → Measures prediction error.  \n",
    "     - **R² Score** → Shows how well the model explains variance.  \n",
    "   - Stores results in a dictionary (`results`) for comparison with other models.\n",
    "\n",
    "#### **Why Use CatBoost Instead of Other Boosting Algorithms?**\n",
    "✅ **Optimized for Categorical Data** → Can handle categorical variables **without needing encoding**.  \n",
    "✅ **Avoids Overfitting** → Uses special **ordered boosting techniques** to improve generalization.  \n",
    "✅ **Fast Training with GPU Support** → CatBoost is optimized for performance.  \n",
    "✅ **Powerful for Large Datasets** → Works well on high-dimensional data.\n"
   ]
  },
  {
   "cell_type": "code",
   "execution_count": 15,
   "id": "2f04da2a",
   "metadata": {},
   "outputs": [],
   "source": [
    "catboost = CatBoostRegressor(\n",
    "    iterations=500,\n",
    "    learning_rate=0.05,\n",
    "    depth=6,\n",
    "    verbose=0,\n",
    "    random_seed=42\n",
    ")\n",
    "catboost.fit(X_train, y_train)\n",
    "y_pred_catboost = catboost.predict(X_test)\n",
    "evaluate_model(\"CatBoost\", y_test, y_pred_catboost, results)"
   ]
  },
  {
   "cell_type": "markdown",
   "id": "d9c74cc9",
   "metadata": {},
   "source": [
    "### **LGBM Regressor**\n",
    "--------------------"
   ]
  },
  {
   "cell_type": "markdown",
   "id": "594ecf7a",
   "metadata": {},
   "source": [
    "\n",
    "#### **Step-by-Step Explanation:**\n",
    "1️⃣ **Initialize the LightGBM Model:**  \n",
    "   ```python\n",
    "   lgbm = LGBMRegressor(\n",
    "       n_estimators=100,\n",
    "       learning_rate=0.05,\n",
    "       max_depth=6,\n",
    "       random_state=42\n",
    "   )\n",
    "   ```\n",
    "   - **`n_estimators=100`** → Uses 100 boosting iterations (trees).  \n",
    "   - **`learning_rate=0.05`** → Controls how quickly the model updates weights.  \n",
    "   - **`max_depth=6`** → Limits tree depth to prevent overfitting.  \n",
    "   - **`random_state=42`** → Ensures results remain reproducible.\n",
    "\n",
    "2️⃣ **Train the Model on Training Data:**  \n",
    "   ```python\n",
    "   lgbm.fit(X_train, y_train)\n",
    "   ```\n",
    "   - Learns relationships between `X_train` (features) and `y_train` (target variable).  \n",
    "   - Uses **gradient boosting** to iteratively improve predictions.\n",
    "\n",
    "3️⃣ **Make Predictions on Test Data:**  \n",
    "   ```python\n",
    "   y_pred_lgbm = lgbm.predict(X_test)\n",
    "   ```\n",
    "   - Generates predictions for `y_test` based on `X_test`.\n",
    "\n",
    "4️⃣ **Evaluate Model Performance:**  \n",
    "   ```python\n",
    "   evaluate_model(\"LightGBM\", y_test, y_pred_lgbm, results)\n",
    "   ```\n",
    "   - Computes key **regression metrics**:\n",
    "     - **Root Mean Squared Error (RMSE)** → Measures prediction error.  \n",
    "     - **R² Score** → Shows how well the model explains variance.  \n",
    "   - Stores results in a dictionary (`results`) for comparison with other models.\n",
    "\n",
    "#### **Why Use LightGBM Instead of Other Boosting Algorithms?**\n",
    "✅ **Optimized for Large Datasets** → Faster training than traditional gradient boosting.  \n",
    "✅ **Handles Missing Values Automatically** → No need for imputation.  \n",
    "✅ **Supports Categorical Features Natively** → No need for one-hot encoding.  \n",
    "✅ **Efficient for Complex Models** → Works well for high-dimensional data.  \n"
   ]
  },
  {
   "cell_type": "code",
   "execution_count": 16,
   "id": "1f88b1d6",
   "metadata": {},
   "outputs": [
    {
     "name": "stdout",
     "output_type": "stream",
     "text": [
      "[LightGBM] [Warning] Found whitespace in feature_names, replace with underlines\n",
      "[LightGBM] [Info] Auto-choosing col-wise multi-threading, the overhead of testing was 0.000463 seconds.\n",
      "You can set `force_col_wise=true` to remove the overhead.\n",
      "[LightGBM] [Info] Total Bins 2357\n",
      "[LightGBM] [Info] Number of data points in the train set: 625, number of used features: 17\n",
      "[LightGBM] [Info] Start training from score 5.363101\n",
      "[LightGBM] [Warning] No further splits with positive gain, best gain: -inf\n",
      "[LightGBM] [Warning] No further splits with positive gain, best gain: -inf\n",
      "[LightGBM] [Warning] No further splits with positive gain, best gain: -inf\n",
      "[LightGBM] [Warning] No further splits with positive gain, best gain: -inf\n",
      "[LightGBM] [Warning] No further splits with positive gain, best gain: -inf\n",
      "[LightGBM] [Warning] No further splits with positive gain, best gain: -inf\n",
      "[LightGBM] [Warning] No further splits with positive gain, best gain: -inf\n",
      "[LightGBM] [Warning] No further splits with positive gain, best gain: -inf\n",
      "[LightGBM] [Warning] No further splits with positive gain, best gain: -inf\n",
      "[LightGBM] [Warning] No further splits with positive gain, best gain: -inf\n",
      "[LightGBM] [Warning] No further splits with positive gain, best gain: -inf\n",
      "[LightGBM] [Warning] No further splits with positive gain, best gain: -inf\n",
      "[LightGBM] [Warning] No further splits with positive gain, best gain: -inf\n",
      "[LightGBM] [Warning] No further splits with positive gain, best gain: -inf\n",
      "[LightGBM] [Warning] No further splits with positive gain, best gain: -inf\n",
      "[LightGBM] [Warning] No further splits with positive gain, best gain: -inf\n",
      "[LightGBM] [Warning] No further splits with positive gain, best gain: -inf\n",
      "[LightGBM] [Warning] No further splits with positive gain, best gain: -inf\n",
      "[LightGBM] [Warning] No further splits with positive gain, best gain: -inf\n",
      "[LightGBM] [Warning] No further splits with positive gain, best gain: -inf\n",
      "[LightGBM] [Warning] No further splits with positive gain, best gain: -inf\n",
      "[LightGBM] [Warning] No further splits with positive gain, best gain: -inf\n",
      "[LightGBM] [Warning] No further splits with positive gain, best gain: -inf\n",
      "[LightGBM] [Warning] No further splits with positive gain, best gain: -inf\n",
      "[LightGBM] [Warning] No further splits with positive gain, best gain: -inf\n",
      "[LightGBM] [Warning] No further splits with positive gain, best gain: -inf\n",
      "[LightGBM] [Warning] No further splits with positive gain, best gain: -inf\n",
      "[LightGBM] [Warning] No further splits with positive gain, best gain: -inf\n",
      "[LightGBM] [Warning] No further splits with positive gain, best gain: -inf\n",
      "[LightGBM] [Warning] No further splits with positive gain, best gain: -inf\n",
      "[LightGBM] [Warning] No further splits with positive gain, best gain: -inf\n",
      "[LightGBM] [Warning] No further splits with positive gain, best gain: -inf\n",
      "[LightGBM] [Warning] No further splits with positive gain, best gain: -inf\n",
      "[LightGBM] [Warning] No further splits with positive gain, best gain: -inf\n",
      "[LightGBM] [Warning] No further splits with positive gain, best gain: -inf\n",
      "[LightGBM] [Warning] No further splits with positive gain, best gain: -inf\n",
      "[LightGBM] [Warning] No further splits with positive gain, best gain: -inf\n",
      "[LightGBM] [Warning] No further splits with positive gain, best gain: -inf\n",
      "[LightGBM] [Warning] No further splits with positive gain, best gain: -inf\n",
      "[LightGBM] [Warning] No further splits with positive gain, best gain: -inf\n",
      "[LightGBM] [Warning] No further splits with positive gain, best gain: -inf\n",
      "[LightGBM] [Warning] No further splits with positive gain, best gain: -inf\n",
      "[LightGBM] [Warning] No further splits with positive gain, best gain: -inf\n",
      "[LightGBM] [Warning] No further splits with positive gain, best gain: -inf\n",
      "[LightGBM] [Warning] No further splits with positive gain, best gain: -inf\n",
      "[LightGBM] [Warning] No further splits with positive gain, best gain: -inf\n",
      "[LightGBM] [Warning] No further splits with positive gain, best gain: -inf\n",
      "[LightGBM] [Warning] No further splits with positive gain, best gain: -inf\n",
      "[LightGBM] [Warning] No further splits with positive gain, best gain: -inf\n",
      "[LightGBM] [Warning] No further splits with positive gain, best gain: -inf\n",
      "[LightGBM] [Warning] No further splits with positive gain, best gain: -inf\n",
      "[LightGBM] [Warning] No further splits with positive gain, best gain: -inf\n",
      "[LightGBM] [Warning] No further splits with positive gain, best gain: -inf\n",
      "[LightGBM] [Warning] No further splits with positive gain, best gain: -inf\n",
      "[LightGBM] [Warning] No further splits with positive gain, best gain: -inf\n",
      "[LightGBM] [Warning] No further splits with positive gain, best gain: -inf\n",
      "[LightGBM] [Warning] No further splits with positive gain, best gain: -inf\n",
      "[LightGBM] [Warning] No further splits with positive gain, best gain: -inf\n",
      "[LightGBM] [Warning] No further splits with positive gain, best gain: -inf\n",
      "[LightGBM] [Warning] No further splits with positive gain, best gain: -inf\n",
      "[LightGBM] [Warning] No further splits with positive gain, best gain: -inf\n",
      "[LightGBM] [Warning] No further splits with positive gain, best gain: -inf\n",
      "[LightGBM] [Warning] No further splits with positive gain, best gain: -inf\n",
      "[LightGBM] [Warning] No further splits with positive gain, best gain: -inf\n",
      "[LightGBM] [Warning] No further splits with positive gain, best gain: -inf\n",
      "[LightGBM] [Warning] No further splits with positive gain, best gain: -inf\n",
      "[LightGBM] [Warning] No further splits with positive gain, best gain: -inf\n",
      "[LightGBM] [Warning] No further splits with positive gain, best gain: -inf\n",
      "[LightGBM] [Warning] No further splits with positive gain, best gain: -inf\n",
      "[LightGBM] [Warning] No further splits with positive gain, best gain: -inf\n",
      "[LightGBM] [Warning] No further splits with positive gain, best gain: -inf\n",
      "[LightGBM] [Warning] No further splits with positive gain, best gain: -inf\n",
      "[LightGBM] [Warning] No further splits with positive gain, best gain: -inf\n",
      "[LightGBM] [Warning] No further splits with positive gain, best gain: -inf\n",
      "[LightGBM] [Warning] No further splits with positive gain, best gain: -inf\n",
      "[LightGBM] [Warning] No further splits with positive gain, best gain: -inf\n",
      "[LightGBM] [Warning] No further splits with positive gain, best gain: -inf\n",
      "[LightGBM] [Warning] No further splits with positive gain, best gain: -inf\n",
      "[LightGBM] [Warning] No further splits with positive gain, best gain: -inf\n",
      "[LightGBM] [Warning] No further splits with positive gain, best gain: -inf\n",
      "[LightGBM] [Warning] No further splits with positive gain, best gain: -inf\n",
      "[LightGBM] [Warning] No further splits with positive gain, best gain: -inf\n",
      "[LightGBM] [Warning] No further splits with positive gain, best gain: -inf\n",
      "[LightGBM] [Warning] No further splits with positive gain, best gain: -inf\n",
      "[LightGBM] [Warning] No further splits with positive gain, best gain: -inf\n",
      "[LightGBM] [Warning] No further splits with positive gain, best gain: -inf\n",
      "[LightGBM] [Warning] No further splits with positive gain, best gain: -inf\n",
      "[LightGBM] [Warning] No further splits with positive gain, best gain: -inf\n",
      "[LightGBM] [Warning] No further splits with positive gain, best gain: -inf\n",
      "[LightGBM] [Warning] No further splits with positive gain, best gain: -inf\n",
      "[LightGBM] [Warning] No further splits with positive gain, best gain: -inf\n",
      "[LightGBM] [Warning] No further splits with positive gain, best gain: -inf\n",
      "[LightGBM] [Warning] No further splits with positive gain, best gain: -inf\n",
      "[LightGBM] [Warning] No further splits with positive gain, best gain: -inf\n",
      "[LightGBM] [Warning] No further splits with positive gain, best gain: -inf\n",
      "[LightGBM] [Warning] No further splits with positive gain, best gain: -inf\n",
      "[LightGBM] [Warning] No further splits with positive gain, best gain: -inf\n",
      "[LightGBM] [Warning] No further splits with positive gain, best gain: -inf\n",
      "[LightGBM] [Warning] No further splits with positive gain, best gain: -inf\n",
      "[LightGBM] [Warning] No further splits with positive gain, best gain: -inf\n"
     ]
    }
   ],
   "source": [
    "\n",
    "lgbm = LGBMRegressor(\n",
    "    n_estimators=100,\n",
    "    learning_rate=0.05,\n",
    "    max_depth=6,\n",
    "    random_state=42\n",
    ")\n",
    "lgbm.fit(X_train, y_train)\n",
    "y_pred_lgbm = lgbm.predict(X_test)\n",
    "evaluate_model(\"LightGBM\", y_test, y_pred_lgbm, results)\n"
   ]
  },
  {
   "cell_type": "markdown",
   "id": "5afdec0d",
   "metadata": {},
   "source": [
    "### **Hist Gradient Boosting Regressor**\n",
    "--------------------------------------"
   ]
  },
  {
   "cell_type": "markdown",
   "id": "ab265375",
   "metadata": {},
   "source": [
    "#### **Step-by-Step Explanation:**\n",
    "1️⃣ **Initialize the Model:**  \n",
    "   ```python\n",
    "   hgb = HistGradientBoostingRegressor(\n",
    "       max_iter=100,\n",
    "       learning_rate=0.05,\n",
    "       max_depth=6,\n",
    "       random_state=42\n",
    "   )\n",
    "   ```\n",
    "   - **`max_iter=100`** → Runs 100 boosting iterations (trees).  \n",
    "   - **`learning_rate=0.05`** → Controls how much weights adjust per iteration.  \n",
    "   - **`max_depth=6`** → Limits tree depth to prevent overfitting.  \n",
    "   - **`random_state=42`** → Ensures reproducible results.\n",
    "\n",
    "2️⃣ **Train the Model on Training Data:**  \n",
    "   ```python\n",
    "   hgb.fit(X_train, y_train)\n",
    "   ```\n",
    "   - Uses **gradient boosting** to iteratively improve predictions.\n",
    "   - Learns complex patterns from `X_train` to predict `y_train`.\n",
    "\n",
    "3️⃣ **Make Predictions on Test Data:**  \n",
    "   ```python\n",
    "   y_pred_hgb = hgb.predict(X_test)\n",
    "   ```\n",
    "   - Generates predictions for `y_test` based on unseen data `X_test`.\n",
    "\n",
    "4️⃣ **Evaluate Model Performance:**  \n",
    "   ```python\n",
    "   evaluate_model(\"HistGradientBoosting\", y_test, y_pred_hgb, results)\n",
    "   ```\n",
    "   - Computes **Root Mean Squared Error (RMSE)** and **R² Score** to assess performance.\n",
    "   - Stores results in a dictionary for easy comparison with other models.\n",
    "\n",
    "#### **Why Use Histogram-Based Gradient Boosting?**\n",
    "✅ **Optimized for Large Datasets** → Uses histograms for efficient training.  \n",
    "✅ **Handles Missing Values Automatically** → No need for imputation.  \n",
    "✅ **Strong Performance on Complex Data** → Captures nonlinear relationships.  \n"
   ]
  },
  {
   "cell_type": "code",
   "execution_count": 17,
   "id": "73d46159",
   "metadata": {},
   "outputs": [],
   "source": [
    "hgb = HistGradientBoostingRegressor(\n",
    "    max_iter=100,\n",
    "    learning_rate=0.05,\n",
    "    max_depth=6,\n",
    "    random_state=42\n",
    ")\n",
    "hgb.fit(X_train, y_train)\n",
    "y_pred_hgb = hgb.predict(X_test)\n",
    "evaluate_model(\"HistGradientBoosting\", y_test, y_pred_hgb, results)"
   ]
  },
  {
   "cell_type": "markdown",
   "id": "f92e2b94",
   "metadata": {},
   "source": [
    "## Results "
   ]
  },
  {
   "cell_type": "code",
   "execution_count": 18,
   "id": "4407a1b4",
   "metadata": {},
   "outputs": [
    {
     "name": "stdout",
     "output_type": "stream",
     "text": [
      "📊 Model Comparison:\n",
      "                           RMSE        R2\n",
      "RandomForest           0.405146  0.861979\n",
      "CatBoost               0.424605  0.848402\n",
      "HistGradientBoosting   0.437368  0.839152\n",
      "LightGBM               0.443182  0.834847\n",
      "XGBoost                0.448166  0.831112\n",
      "Ridge                  0.528380  0.765245\n",
      "LinearRegression       0.537863  0.756743\n",
      "GLM_Gaussian           0.537863  0.756743\n",
      "BetaRegression_scaled  0.543303  0.751797\n",
      "Lasso                  0.664255  0.628984\n"
     ]
    }
   ],
   "source": [
    "results_df = pd.DataFrame(results).T.sort_values(by=\"RMSE\")\n",
    "print(\"📊 Model Comparison:\")\n",
    "print(results_df)"
   ]
  },
  {
   "cell_type": "markdown",
   "id": "c9447220",
   "metadata": {},
   "source": [
    "## Saving the best model"
   ]
  },
  {
   "cell_type": "code",
   "execution_count": 19,
   "id": "c93dd129",
   "metadata": {},
   "outputs": [],
   "source": [
    "# Save the best model in Pickle format\n",
    "with open(\"../models/catboost_model.pkl\", \"wb\") as f:\n",
    "    pickle.dump(catboost, f)"
   ]
  },
  {
   "cell_type": "markdown",
   "id": "851e03a6",
   "metadata": {},
   "source": [
    "## Analysis of the selected model"
   ]
  },
  {
   "cell_type": "markdown",
   "id": "e9b2f476",
   "metadata": {},
   "source": [
    "### **Plot actual vs. predicted values**"
   ]
  },
  {
   "cell_type": "code",
   "execution_count": 24,
   "id": "be31cb1c",
   "metadata": {},
   "outputs": [
    {
     "data": {
      "image/png": "[encoded data removed]",
      "text/plain": [
       "<Figure size 1200x600 with 1 Axes>"
      ]
     },
     "metadata": {},
     "output_type": "display_data"
    }
   ],
   "source": [
    "# Sort values for a smoother line plot\n",
    "sorted_indices = y_test.argsort()\n",
    "y_test_sorted = y_test.iloc[sorted_indices]\n",
    "y_pred_catboost_sorted = y_pred_catboost[sorted_indices]\n",
    "\n",
    "# Plot actual vs. predicted values\n",
    "plt.figure(figsize=(12, 6))\n",
    "plt.plot(range(len(y_test_sorted)), y_test_sorted, label=\"Actual\", color=\"blue\", marker=\"o\")\n",
    "plt.plot(range(len(y_pred_catboost_sorted)), y_pred_catboost_sorted, label=\"Predicted\", color=\"red\", linestyle=\"dashed\")\n",
    "\n",
    "plt.xlabel(\"Sample Index\")\n",
    "plt.ylabel(\"Target Value\")\n",
    "plt.title(\"Actual vs. Predicted Values - CatBoost\")\n",
    "plt.legend()\n",
    "plt.show()"
   ]
  },
  {
   "cell_type": "markdown",
   "id": "548bc98b",
   "metadata": {},
   "source": [
    "### **Observations**\n",
    "📌 **Actual values (blue line)** follow a generally smooth upward trend, indicating a structured pattern in the dataset.  \n",
    "📌 **Predicted values (red dashed line)** exhibit some fluctuations but largely follow the shape of the actual data.  \n",
    "📌 The model **captures the overall trend well**, but there are points where the predictions deviate significantly from actual values.  \n",
    "\n",
    "### **Potential Insights**\n",
    "✅ **Good Fit Overall** → The CatBoost model generally follows the data trend, meaning it has learned meaningful patterns.  \n",
    "⚠️ **Prediction Variability** → The oscillations in predictions suggest areas where the model may be **underfitting** or **overfitting**.  .  \n",
    "\n"
   ]
  },
  {
   "cell_type": "markdown",
   "id": "25484e1c",
   "metadata": {},
   "source": [
    "### **Feature Importance Plot**"
   ]
  },
  {
   "cell_type": "markdown",
   "id": "dd003c7d",
   "metadata": {},
   "source": [
    "Trhough a **feature importance plot** we can visualize which features contribute most to predictions."
   ]
  },
  {
   "cell_type": "code",
   "execution_count": null,
   "id": "d5675ecb",
   "metadata": {},
   "outputs": [
    {
     "name": "stderr",
     "output_type": "stream",
     "text": [
      "C:\\Users\\ntlg2\\AppData\\Local\\Temp\\ipykernel_11028\\2970250096.py:8: FutureWarning: \n",
      "\n",
      "Passing `palette` without assigning `hue` is deprecated and will be removed in v0.14.0. Assign the `y` variable to `hue` and set `legend=False` for the same effect.\n",
      "\n",
      "  sns.barplot(x=feature_importance, y=features, palette=\"Blues_r\")\n"
     ]
    },
    {
     "data": {
      "image/png": "[encoded data removed]",
      "text/plain": [
       "<Figure size 1200x600 with 1 Axes>"
      ]
     },
     "metadata": {},
     "output_type": "display_data"
    }
   ],
   "source": [
    "feature_importance = catboost.get_feature_importance()\n",
    "features = X_train.columns\n",
    "\n",
    "plt.figure(figsize=(12, 6))\n",
    "sns.barplot(x=feature_importance, y=features, palette=\"Blues_r\")\n",
    "plt.xlabel(\"Importance Score\")\n",
    "plt.ylabel(\"Features\")\n",
    "plt.title(\"Feature Importance - CatBoost\")\n",
    "plt.show()"
   ]
  },
  {
   "cell_type": "markdown",
   "id": "210b6eda",
   "metadata": {},
   "source": [
    "\n",
    "📌 **Top Influential Features:**  \n",
    "   - `health_x_economy` (highest impact) suggests that interactions between **health and economy** strongly affect predictions.  \n",
    "   - `freedom` and `family` also play a major role, indicating that societal factors contribute significantly.  \n",
    "\n",
    "📌 **Medium Importance Features:**  \n",
    "   - `trust`, `economy_health_ratio`, and `family_generosity_ratio` show a **moderate** influence.  \n",
    "   - These features might interact with top-ranked predictors, contributing indirectly to outcomes.  \n",
    "\n",
    "📌 **Least Important Features:**  \n",
    "   - **Geographical factors** like `continent_*` have **low impact**, suggesting that region-based variations might not be as predictive in this context.  \n",
    "   - `continent_Unknown` has the lowest importance, meaning missing geographical data **does not heavily affect predictions**.  \n",
    "\n",
    "### **Potential Insights**\n",
    "✅ **Policy & Decision-Making:**  \n",
    "   - Since **health and economy** have the biggest influence, initiatives focused on **economic growth and public health improvement** may be crucial.  \n",
    "   - **Freedom** being highly important implies that societal well-being directly impacts happiness.  "
   ]
  },
  {
   "cell_type": "markdown",
   "id": "e01636da",
   "metadata": {},
   "source": [
    "### **Residuals plot**"
   ]
  },
  {
   "cell_type": "markdown",
   "id": "3e62c48d",
   "metadata": {},
   "source": [
    "Now, through a **Residuals plot** we can examines how well predictions align with actual values."
   ]
  },
  {
   "cell_type": "code",
   "execution_count": null,
   "id": "51179c6b",
   "metadata": {},
   "outputs": [
    {
     "data": {
      "image/png": "[encoded data removed]",
      "text/plain": [
       "<Figure size 1000x600 with 1 Axes>"
      ]
     },
     "metadata": {},
     "output_type": "display_data"
    }
   ],
   "source": [
    "residuals = y_test - y_pred_catboost\n",
    "\n",
    "plt.figure(figsize=(10, 6))\n",
    "plt.scatter(y_test, residuals, color=\"blue\", alpha=0.5)\n",
    "plt.axhline(y=0, color=\"red\", linestyle=\"--\")\n",
    "plt.xlabel(\"Actual Values\")\n",
    "plt.ylabel(\"Residuals\")\n",
    "plt.title(\"Residual Plot - CatBoost\")\n",
    "plt.show()"
   ]
  },
  {
   "cell_type": "markdown",
   "id": "af9b32ca",
   "metadata": {},
   "source": [
    "1. **Residual Pattern**: The residuals show a clear pattern rather than random scatter:\n",
    "   - Positive residuals at lower actual values (overestimation)\n",
    "   - Negative residuals at higher actual values (underestimation)\n",
    "\n",
    "2. **Heteroscedasticity**: The magnitude of residuals appears to change with actual values, suggesting potential heteroscedasticity (non-constant variance of errors).\n",
    "\n",
    "3. **Systematic Error**: The pattern in residuals indicates the model has systematic bias in its predictions across different value ranges."
   ]
  },
  {
   "cell_type": "markdown",
   "id": "ad3b74e0",
   "metadata": {},
   "source": [
    "### **Predicted vs Actual Values Plot**"
   ]
  },
  {
   "cell_type": "markdown",
   "id": "70799381",
   "metadata": {},
   "source": [
    "Through this plot we can evaluate the  model accuracy by comparing predictions to real values."
   ]
  },
  {
   "cell_type": "code",
   "execution_count": 22,
   "id": "d8d54e05",
   "metadata": {},
   "outputs": [
    {
     "data": {
      "image/png": "[encoded data removed]",
      "text/plain": [
       "<Figure size 1000x600 with 1 Axes>"
      ]
     },
     "metadata": {},
     "output_type": "display_data"
    }
   ],
   "source": [
    "plt.figure(figsize=(10, 6))\n",
    "plt.scatter(y_test, y_pred_catboost, color=\"green\", alpha=0.5)\n",
    "plt.plot([min(y_test), max(y_test)], [min(y_test), max(y_test)], color=\"red\", linestyle=\"--\")\n",
    "plt.xlabel(\"Actual Values\")\n",
    "plt.ylabel(\"Predicted Values\")\n",
    "plt.title(\"Predicted vs Actual - CatBoost\")\n",
    "plt.show()"
   ]
  },
  {
   "cell_type": "markdown",
   "id": "d9631d55",
   "metadata": {},
   "source": [
    "- **General Pattern:** The predicted values appear to follow the actual values reasonably well, showing a generally positive correlation between predictions and true values.\n",
    "\n",
    "- **Potential Overestimation:** At lower actual values (around 3-4), the predicted values seem slightly higher than actuals, suggesting possible overestimation in this range.\n",
    "\n",
    "- **Potential Underestimation:** At higher actual values (around 6-7), the predictions may be slightly lower than actuals, indicating potential underestimation at the upper range.\n",
    "\n",
    "- **Overall Fit:** The diagonal alignment suggests the model has learned the general relationship in the data, though there appears to be some systematic error."
   ]
  }
 ],
 "metadata": {
  "kernelspec": {
   "display_name": "venv",
   "language": "python",
   "name": "python3"
  },
  "language_info": {
   "codemirror_mode": {
    "name": "ipython",
    "version": 3
   },
   "file_extension": ".py",
   "mimetype": "text/x-python",
   "name": "python",
   "nbconvert_exporter": "python",
   "pygments_lexer": "ipython3",
   "version": "3.12.10"
  }
 },
 "nbformat": 4,
 "nbformat_minor": 5
}
